{
 "cells": [
  {
   "cell_type": "markdown",
   "metadata": {},
   "source": [
    "# <center><b>Reporte - 02:</b> <span style='color:Red'> <b>Synergy Logistics</b> </span> </center>\n",
    "##### <center>Hecho por: <b>Daniel Omar Morán Carrizal<b> </center>\n",
    "##### <center> <b>marzo 2022<b> </center>"
   ]
  },
  {
   "cell_type": "markdown",
   "metadata": {},
   "source": [
    "<p>La Dirección de Synergy Logistics ha solicitado al equipo operativo, realizar una propuesta que permita enfocar las prioridades de la estrategia operativa 2021; para ello, se plantea analizar la viabilidad de 3 opciones de enfoque: rutas de importación y exportación, medio de transporte utilizado y valor total de importaciones y exportaciones.</p>"
   ]
  },
  {
   "cell_type": "markdown",
   "metadata": {},
   "source": [
    "### <b>1. Rutas de importación y exportación</b>"
   ]
  },
  {
   "cell_type": "code",
   "execution_count": 910,
   "metadata": {},
   "outputs": [],
   "source": [
    "import pandas as pd\n",
    "sldb = pd.read_csv(\"synergy_logistics_database.csv\")"
   ]
  },
  {
   "cell_type": "markdown",
   "metadata": {},
   "source": [
    "Ya habiendo leído el archivo csv, se dividirá el DataFrame en exportaciones e importaciones, de esta manera se podrá trabajar de forma separada con cada uno de ellos."
   ]
  },
  {
   "cell_type": "code",
   "execution_count": 911,
   "metadata": {},
   "outputs": [],
   "source": [
    "#Frame general de exportaciones\n",
    "exports = sldb[sldb['direction'] == 'Exports']\n",
    "\n",
    "'''-------------------------------------------------------------------------------------'''\n",
    "\n",
    "#Frame general de importaciones\n",
    "imports = sldb[sldb['direction'] == 'Imports']"
   ]
  },
  {
   "cell_type": "markdown",
   "metadata": {},
   "source": [
    "Ahora, se filtrarán las rutas más demandadas tanto para exportaciones como para importaciones. En este apartado se clasificaron acorde al número de repeticiones, además, se obtuvo la cantidad monetaria por cada ruta."
   ]
  },
  {
   "cell_type": "code",
   "execution_count": 912,
   "metadata": {},
   "outputs": [],
   "source": [
    "#Frame de exportaciones por rutas (sin repetir)\n",
    "rutas_export = exports.groupby(['origin','destination','transport_mode'])\n",
    "\n",
    "#Extracción del numero de exportaciones y la cantidad monetaria de esas exportaciones\n",
    "top_rutas_exp_amount = rutas_export.sum()['total_value']\n",
    "top_rutas_exp_values = rutas_export.count()['total_value']\n",
    "\n",
    "#Concatenación en un solo DataFrame\n",
    "top_rutas_exp = pd.concat([top_rutas_exp_values,top_rutas_exp_amount],axis=1)\n",
    "top_rutas_exp.columns = ['total_value','amount']\n",
    "\n",
    "\n",
    "'''-------------------------------------------------------------------------------------'''\n",
    "\n",
    "#Frame de importaciones por rutas (sin repetir)\n",
    "rutas_import = imports.groupby(['origin','destination','transport_mode'])\n",
    "\n",
    "#Extracción del numero de exportaciones y la cantidad monetaria de esas importaciones\n",
    "top_rutas_imp_amount = rutas_import.sum()['total_value']\n",
    "top_rutas_imp_values = rutas_import.count()['total_value']\n",
    "\n",
    "#Concatenación en un solo DataFrame\n",
    "top_rutas_imp = pd.concat([top_rutas_imp_values,top_rutas_imp_amount],axis=1)\n",
    "top_rutas_imp.columns = ['total_value','amount']"
   ]
  },
  {
   "cell_type": "markdown",
   "metadata": {},
   "source": [
    "Una vez filtradas, las rutas de importaciones y exportaciones se regresó a forma DataFrame, esto con el objetivo de una mejor visualización. Posteriormente se imprime el top 10 de cada apartado."
   ]
  },
  {
   "cell_type": "code",
   "execution_count": 913,
   "metadata": {},
   "outputs": [
    {
     "name": "stdout",
     "output_type": "stream",
     "text": [
      "El top 10 de paises con mayores exportaciones genera: 45.06 billones\n",
      "El top 10 de paises con mayores importaciones genera: 26.15 billones\n"
     ]
    }
   ],
   "source": [
    "#Frame de exportaciones dividido por categorías y no en grupo.\n",
    "top_rutas_exp = top_rutas_exp.reset_index()\n",
    "\n",
    "#Cambio de nombre para las columnas y filtración del top 10\n",
    "top_rutas_exp.columns = ['Origin','Destination','Transport Mode','Export Value','Total ($)']\n",
    "top_rutas_exp = top_rutas_exp.sort_values('Export Value', ascending=False).head(10)\n",
    "\n",
    "#Suma de dinero generada por las 10 rutas\n",
    "amount_total_r = round(top_rutas_exp.sum()['Total ($)']/1000000000,2)\n",
    "\n",
    "print(f'El top 10 de paises con mayores exportaciones genera: {amount_total_r} billones')\n",
    "\n",
    "'''-------------------------------------------------------------------------------------'''\n",
    "\n",
    "#Frame de importaciones dividido por categorías y no en grupo.\n",
    "top_rutas_imp = top_rutas_imp.reset_index()\n",
    "\n",
    "#Cambio de nombre para las columnas y filtración del top 10\n",
    "top_rutas_imp.columns = ['Origin','Destination','Transport Mode','Import Value','Total ($)']\n",
    "top_rutas_imp = top_rutas_imp.sort_values('Import Value', ascending=False).head(10)\n",
    "\n",
    "#Suma de dinero generada por las 10 rutas\n",
    "amount_total_r = round(top_rutas_imp.sum()['Total ($)']/1000000000,2)\n",
    "\n",
    "print(f'El top 10 de paises con mayores importaciones genera: {amount_total_r} billones')\n"
   ]
  },
  {
   "cell_type": "markdown",
   "metadata": {},
   "source": [
    "<span style='color:Yellow'> <b>TOP 10 DE RUTAS DE EXPORTACIONES</b> </span>"
   ]
  },
  {
   "cell_type": "code",
   "execution_count": 914,
   "metadata": {},
   "outputs": [
    {
     "data": {
      "text/html": [
       "<div>\n",
       "<style scoped>\n",
       "    .dataframe tbody tr th:only-of-type {\n",
       "        vertical-align: middle;\n",
       "    }\n",
       "\n",
       "    .dataframe tbody tr th {\n",
       "        vertical-align: top;\n",
       "    }\n",
       "\n",
       "    .dataframe thead th {\n",
       "        text-align: right;\n",
       "    }\n",
       "</style>\n",
       "<table border=\"1\" class=\"dataframe\">\n",
       "  <thead>\n",
       "    <tr style=\"text-align: right;\">\n",
       "      <th></th>\n",
       "      <th>Origin</th>\n",
       "      <th>Destination</th>\n",
       "      <th>Transport Mode</th>\n",
       "      <th>Export Value</th>\n",
       "      <th>Total ($)</th>\n",
       "    </tr>\n",
       "  </thead>\n",
       "  <tbody>\n",
       "    <tr>\n",
       "      <th>1</th>\n",
       "      <td>South Korea</td>\n",
       "      <td>Vietnam</td>\n",
       "      <td>Sea</td>\n",
       "      <td>497</td>\n",
       "      <td>6877007000</td>\n",
       "    </tr>\n",
       "    <tr>\n",
       "      <th>2</th>\n",
       "      <td>USA</td>\n",
       "      <td>Netherlands</td>\n",
       "      <td>Sea</td>\n",
       "      <td>436</td>\n",
       "      <td>1032187000</td>\n",
       "    </tr>\n",
       "    <tr>\n",
       "      <th>3</th>\n",
       "      <td>Netherlands</td>\n",
       "      <td>Belgium</td>\n",
       "      <td>Road</td>\n",
       "      <td>374</td>\n",
       "      <td>3230094000</td>\n",
       "    </tr>\n",
       "    <tr>\n",
       "      <th>4</th>\n",
       "      <td>China</td>\n",
       "      <td>Mexico</td>\n",
       "      <td>Air</td>\n",
       "      <td>330</td>\n",
       "      <td>12250000000</td>\n",
       "    </tr>\n",
       "    <tr>\n",
       "      <th>5</th>\n",
       "      <td>Japan</td>\n",
       "      <td>Brazil</td>\n",
       "      <td>Sea</td>\n",
       "      <td>306</td>\n",
       "      <td>3368155000</td>\n",
       "    </tr>\n",
       "    <tr>\n",
       "      <th>6</th>\n",
       "      <td>Germany</td>\n",
       "      <td>France</td>\n",
       "      <td>Road</td>\n",
       "      <td>299</td>\n",
       "      <td>2902214000</td>\n",
       "    </tr>\n",
       "    <tr>\n",
       "      <th>7</th>\n",
       "      <td>South Korea</td>\n",
       "      <td>Japan</td>\n",
       "      <td>Sea</td>\n",
       "      <td>279</td>\n",
       "      <td>4594000000</td>\n",
       "    </tr>\n",
       "    <tr>\n",
       "      <th>8</th>\n",
       "      <td>Australia</td>\n",
       "      <td>Singapore</td>\n",
       "      <td>Sea</td>\n",
       "      <td>273</td>\n",
       "      <td>493000000</td>\n",
       "    </tr>\n",
       "    <tr>\n",
       "      <th>9</th>\n",
       "      <td>Canada</td>\n",
       "      <td>Mexico</td>\n",
       "      <td>Rail</td>\n",
       "      <td>261</td>\n",
       "      <td>8450000000</td>\n",
       "    </tr>\n",
       "    <tr>\n",
       "      <th>10</th>\n",
       "      <td>China</td>\n",
       "      <td>Spain</td>\n",
       "      <td>Air</td>\n",
       "      <td>250</td>\n",
       "      <td>1862000000</td>\n",
       "    </tr>\n",
       "  </tbody>\n",
       "</table>\n",
       "</div>"
      ],
      "text/plain": [
       "         Origin  Destination Transport Mode  Export Value    Total ($)\n",
       "1   South Korea      Vietnam            Sea           497   6877007000\n",
       "2           USA  Netherlands            Sea           436   1032187000\n",
       "3   Netherlands      Belgium           Road           374   3230094000\n",
       "4         China       Mexico            Air           330  12250000000\n",
       "5         Japan       Brazil            Sea           306   3368155000\n",
       "6       Germany       France           Road           299   2902214000\n",
       "7   South Korea        Japan            Sea           279   4594000000\n",
       "8     Australia    Singapore            Sea           273    493000000\n",
       "9        Canada       Mexico           Rail           261   8450000000\n",
       "10        China        Spain            Air           250   1862000000"
      ]
     },
     "execution_count": 914,
     "metadata": {},
     "output_type": "execute_result"
    }
   ],
   "source": [
    "#Asignación de númeración al index\n",
    "top_rutas_exp = top_rutas_exp.reset_index(drop=True)\n",
    "top_rutas_exp.index += 1\n",
    "top_rutas_exp"
   ]
  },
  {
   "cell_type": "markdown",
   "metadata": {},
   "source": [
    "<span style='color:Orange'> <b>TOP 10 DE RUTAS DE IMPORTACIONES</b> </span>"
   ]
  },
  {
   "cell_type": "code",
   "execution_count": 915,
   "metadata": {},
   "outputs": [
    {
     "data": {
      "text/html": [
       "<div>\n",
       "<style scoped>\n",
       "    .dataframe tbody tr th:only-of-type {\n",
       "        vertical-align: middle;\n",
       "    }\n",
       "\n",
       "    .dataframe tbody tr th {\n",
       "        vertical-align: top;\n",
       "    }\n",
       "\n",
       "    .dataframe thead th {\n",
       "        text-align: right;\n",
       "    }\n",
       "</style>\n",
       "<table border=\"1\" class=\"dataframe\">\n",
       "  <thead>\n",
       "    <tr style=\"text-align: right;\">\n",
       "      <th></th>\n",
       "      <th>Origin</th>\n",
       "      <th>Destination</th>\n",
       "      <th>Transport Mode</th>\n",
       "      <th>Export Value</th>\n",
       "      <th>Total ($)</th>\n",
       "    </tr>\n",
       "  </thead>\n",
       "  <tbody>\n",
       "    <tr>\n",
       "      <th>1</th>\n",
       "      <td>South Korea</td>\n",
       "      <td>Vietnam</td>\n",
       "      <td>Sea</td>\n",
       "      <td>497</td>\n",
       "      <td>6877007000</td>\n",
       "    </tr>\n",
       "    <tr>\n",
       "      <th>2</th>\n",
       "      <td>USA</td>\n",
       "      <td>Netherlands</td>\n",
       "      <td>Sea</td>\n",
       "      <td>436</td>\n",
       "      <td>1032187000</td>\n",
       "    </tr>\n",
       "    <tr>\n",
       "      <th>3</th>\n",
       "      <td>Netherlands</td>\n",
       "      <td>Belgium</td>\n",
       "      <td>Road</td>\n",
       "      <td>374</td>\n",
       "      <td>3230094000</td>\n",
       "    </tr>\n",
       "    <tr>\n",
       "      <th>4</th>\n",
       "      <td>China</td>\n",
       "      <td>Mexico</td>\n",
       "      <td>Air</td>\n",
       "      <td>330</td>\n",
       "      <td>12250000000</td>\n",
       "    </tr>\n",
       "    <tr>\n",
       "      <th>5</th>\n",
       "      <td>Japan</td>\n",
       "      <td>Brazil</td>\n",
       "      <td>Sea</td>\n",
       "      <td>306</td>\n",
       "      <td>3368155000</td>\n",
       "    </tr>\n",
       "    <tr>\n",
       "      <th>6</th>\n",
       "      <td>Germany</td>\n",
       "      <td>France</td>\n",
       "      <td>Road</td>\n",
       "      <td>299</td>\n",
       "      <td>2902214000</td>\n",
       "    </tr>\n",
       "    <tr>\n",
       "      <th>7</th>\n",
       "      <td>South Korea</td>\n",
       "      <td>Japan</td>\n",
       "      <td>Sea</td>\n",
       "      <td>279</td>\n",
       "      <td>4594000000</td>\n",
       "    </tr>\n",
       "    <tr>\n",
       "      <th>8</th>\n",
       "      <td>Australia</td>\n",
       "      <td>Singapore</td>\n",
       "      <td>Sea</td>\n",
       "      <td>273</td>\n",
       "      <td>493000000</td>\n",
       "    </tr>\n",
       "    <tr>\n",
       "      <th>9</th>\n",
       "      <td>Canada</td>\n",
       "      <td>Mexico</td>\n",
       "      <td>Rail</td>\n",
       "      <td>261</td>\n",
       "      <td>8450000000</td>\n",
       "    </tr>\n",
       "    <tr>\n",
       "      <th>10</th>\n",
       "      <td>China</td>\n",
       "      <td>Spain</td>\n",
       "      <td>Air</td>\n",
       "      <td>250</td>\n",
       "      <td>1862000000</td>\n",
       "    </tr>\n",
       "  </tbody>\n",
       "</table>\n",
       "</div>"
      ],
      "text/plain": [
       "         Origin  Destination Transport Mode  Export Value    Total ($)\n",
       "1   South Korea      Vietnam            Sea           497   6877007000\n",
       "2           USA  Netherlands            Sea           436   1032187000\n",
       "3   Netherlands      Belgium           Road           374   3230094000\n",
       "4         China       Mexico            Air           330  12250000000\n",
       "5         Japan       Brazil            Sea           306   3368155000\n",
       "6       Germany       France           Road           299   2902214000\n",
       "7   South Korea        Japan            Sea           279   4594000000\n",
       "8     Australia    Singapore            Sea           273    493000000\n",
       "9        Canada       Mexico           Rail           261   8450000000\n",
       "10        China        Spain            Air           250   1862000000"
      ]
     },
     "execution_count": 915,
     "metadata": {},
     "output_type": "execute_result"
    }
   ],
   "source": [
    "#Asignación de númeración al index\n",
    "top_rutas_imp = top_rutas_exp.reset_index(drop=True)\n",
    "top_rutas_imp.index += 1\n",
    "\n",
    "top_rutas_imp"
   ]
  },
  {
   "cell_type": "markdown",
   "metadata": {},
   "source": [
    "<span style='color:Green'> <b>TOTAL DE IMPORTACIONES Y EXPORTACIONES</b> </span>"
   ]
  },
  {
   "cell_type": "code",
   "execution_count": 916,
   "metadata": {},
   "outputs": [],
   "source": [
    "#Cálculo del total de dinero ($) y número exp/imp de la base de datos \n",
    "total_imp_exp_amount = sldb.sum()['total_value']\n",
    "total_imp_exp_values = sldb.count()['total_value']\n",
    "\n",
    "'''---------------------------------------------------------------------'''\n",
    "\n",
    "#Porcentaje total del numero de exportaciones y cantidad ($) \n",
    "ptotal_exp_values = ((top_rutas_exp_values / total_imp_exp_values)*100).sum()\n",
    "ptotal_exp_amount = ((top_rutas_exp_amount / total_imp_exp_amount)*100).sum()\n",
    "\n",
    "'''---------------------------------------------------------------------'''\n",
    "\n",
    "#Porcentaje total del numero de importaciones y cantidad ($)\n",
    "ptotal_imp_values = ((top_rutas_imp_values / total_imp_exp_values)*100).sum()\n",
    "ptotal_imp_amount = ((top_rutas_imp_amount / total_imp_exp_amount)*100).sum()\n"
   ]
  },
  {
   "cell_type": "markdown",
   "metadata": {},
   "source": [
    "A continuación, en las graficas de pastel se muestra el porcentaje de importaciones y exportaciones, acorde a la cantidad de dinero generado y al número de operaciones realizadas en cada ruta."
   ]
  },
  {
   "cell_type": "code",
   "execution_count": 917,
   "metadata": {},
   "outputs": [
    {
     "data": {
      "image/png": "[encoded data removed]",
      "text/plain": [
       "<Figure size 432x288 with 1 Axes>"
      ]
     },
     "metadata": {},
     "output_type": "display_data"
    },
    {
     "data": {
      "image/png": "[encoded data removed]",
      "text/plain": [
       "<Figure size 432x288 with 1 Axes>"
      ]
     },
     "metadata": {},
     "output_type": "display_data"
    }
   ],
   "source": [
    "import matplotlib.pyplot as plt\n",
    "\n",
    "bill_exp = round(top_rutas_exp_amount.sum()/1000000000,2)\n",
    "bill_imp = round(top_rutas_imp_amount.sum()/1000000000,2)\n",
    "\n",
    "amount = [ptotal_imp_amount, ptotal_exp_amount]\n",
    "nombres = [f'{str(bill_imp)} bill', f'{str(bill_exp)} bill']\n",
    "\n",
    "plt.title(\"Porcentaje de importaciones y exportaciones totales ($)\")\n",
    "colors = ('orange','yellow')\n",
    "plt.pie(amount, labels=nombres, autopct= \"%0.3f %%\", colors = colors)\n",
    "plt.axis(\"equal\")\n",
    "plt.legend(labels = ['Importaciones','Exportaciones'], loc = 'best')\n",
    "plt.show()\n",
    "\n",
    "'''-----------------------------------------------------------------'''\n",
    "\n",
    "amount = [ptotal_imp_values, ptotal_exp_values]\n",
    "nombres = [f'{str(top_rutas_imp_values.sum())} operaciones', f'{str(top_rutas_exp_values.sum())} operaciones']\n",
    "\n",
    "plt.title(\"Porcentaje de importaciones y exportaciones totales (No. Operaciones)\")\n",
    "colors = ('orange','yellow')\n",
    "plt.pie(amount, labels=nombres, autopct= \"%0.3f %%\", colors = colors)\n",
    "plt.axis(\"equal\")\n",
    "plt.legend(labels = ['Importaciones','Exportaciones'], loc = 'best')\n",
    "plt.show()\n"
   ]
  },
  {
   "cell_type": "markdown",
   "metadata": {},
   "source": [
    "### <b>2. Medio de transporte utilizado</b>"
   ]
  },
  {
   "cell_type": "markdown",
   "metadata": {},
   "source": [
    "A continuación, se ordenará el medio de transporte más utilizado, acorde a la cantidad ($) de las exportaciones y de las importaciones."
   ]
  },
  {
   "cell_type": "code",
   "execution_count": 918,
   "metadata": {},
   "outputs": [],
   "source": [
    "\n",
    "#Frame de exportaciones por transporte (sin repetir)\n",
    "transport_export = exports.groupby(['transport_mode'])\n",
    "\n",
    "#Extracción de la cantidad monetaria de esas exportaciones por cada transporte\n",
    "transport_exp_amount = transport_export.sum()['total_value']\n",
    "\n",
    "#Regresar a formato DataFrame\n",
    "transport_exp_amount = transport_exp_amount.reset_index()\n",
    "transport_exp_amount.columns = ['Transport Mode','Total ($)']\n",
    "\n",
    "#Obtener el valor ($) en billones\n",
    "transport_exp_amount['Total ($)'] = round(transport_exp_amount['Total ($)']/1000000000,3)\n",
    "\n",
    "#Ordenar del más utilizado al menos utilizado\n",
    "transport_exp_amount = transport_exp_amount.sort_values('Total ($)', ascending= False)\n",
    "\n",
    "#Cambiar el index acorde al lugar\n",
    "transport_exp_amount = transport_exp_amount.reset_index(drop= True)\n",
    "transport_exp_amount.index +=1\n",
    "\n",
    "'-------------------------------------------------------------------------------------------------'\n",
    "\n",
    "#Frame de importaciones por transporte (sin repetir)\n",
    "transport_imports = imports.groupby(['transport_mode'])\n",
    "\n",
    "#Extracción de la cantidad monetaria de esas importaciones por cada transporte\n",
    "transport_imp_amount = transport_imports.sum()['total_value']\n",
    "\n",
    "#Regresar a formato DataFrame\n",
    "transport_imp_amount = transport_imp_amount.reset_index()\n",
    "transport_imp_amount.columns = ['Transport Mode','Total ($)']\n",
    "\n",
    "#Obtener el valor ($) en billones\n",
    "transport_imp_amount['Total ($)'] = round(transport_imp_amount['Total ($)']/1000000000,3)\n",
    "\n",
    "#Ordenar del más utilizado al menos utilizado\n",
    "transport_imp_amount = transport_imp_amount.sort_values('Total ($)', ascending= False)\n",
    "\n",
    "#Cambiar el index acorde al lugar\n",
    "transport_imp_amount = transport_imp_amount.reset_index(drop= True)\n",
    "transport_imp_amount.index +=1\n",
    "\n"
   ]
  },
  {
   "cell_type": "markdown",
   "metadata": {},
   "source": [
    "<span style='color:Yellow'> <b>MODO DE TRANSPORTE QUE GENERA MÁS INGRESOS EN EXPORTACIONES</b> </span>"
   ]
  },
  {
   "cell_type": "code",
   "execution_count": 919,
   "metadata": {},
   "outputs": [
    {
     "data": {
      "text/html": [
       "<div>\n",
       "<style scoped>\n",
       "    .dataframe tbody tr th:only-of-type {\n",
       "        vertical-align: middle;\n",
       "    }\n",
       "\n",
       "    .dataframe tbody tr th {\n",
       "        vertical-align: top;\n",
       "    }\n",
       "\n",
       "    .dataframe thead th {\n",
       "        text-align: right;\n",
       "    }\n",
       "</style>\n",
       "<table border=\"1\" class=\"dataframe\">\n",
       "  <thead>\n",
       "    <tr style=\"text-align: right;\">\n",
       "      <th></th>\n",
       "      <th>Transport Mode</th>\n",
       "      <th>Total ($)</th>\n",
       "    </tr>\n",
       "  </thead>\n",
       "  <tbody>\n",
       "    <tr>\n",
       "      <th>1</th>\n",
       "      <td>Sea</td>\n",
       "      <td>65.593</td>\n",
       "    </tr>\n",
       "    <tr>\n",
       "      <th>2</th>\n",
       "      <td>Rail</td>\n",
       "      <td>34.505</td>\n",
       "    </tr>\n",
       "    <tr>\n",
       "      <th>3</th>\n",
       "      <td>Air</td>\n",
       "      <td>32.785</td>\n",
       "    </tr>\n",
       "    <tr>\n",
       "      <th>4</th>\n",
       "      <td>Road</td>\n",
       "      <td>27.280</td>\n",
       "    </tr>\n",
       "  </tbody>\n",
       "</table>\n",
       "</div>"
      ],
      "text/plain": [
       "  Transport Mode  Total ($)\n",
       "1            Sea     65.593\n",
       "2           Rail     34.505\n",
       "3            Air     32.785\n",
       "4           Road     27.280"
      ]
     },
     "execution_count": 919,
     "metadata": {},
     "output_type": "execute_result"
    }
   ],
   "source": [
    "transport_exp_amount"
   ]
  },
  {
   "cell_type": "code",
   "execution_count": 920,
   "metadata": {},
   "outputs": [
    {
     "data": {
      "image/png": "[encoded data removed]",
      "text/plain": [
       "<Figure size 432x288 with 1 Axes>"
      ]
     },
     "metadata": {
      "needs_background": "light"
     },
     "output_type": "display_data"
    }
   ],
   "source": [
    "transport_exp_amount.plot(kind='bar', x = 'Transport Mode', y ='Total ($)', color = 'yellow')\n",
    "plt.title(\"Modo de transporte que generan más ingresos (exportaciones)\")\n",
    "plt.xlabel(\"Modo de transporte\")\n",
    "plt.ylabel(\"Billones\")\n",
    "plt.show()"
   ]
  },
  {
   "cell_type": "markdown",
   "metadata": {},
   "source": [
    "<span style='color:Orange'> <b>MODO DE TRANSPORTE QUE GENERA MÁS INGRESOS EN IMPORTACIONES</b> </span>"
   ]
  },
  {
   "cell_type": "code",
   "execution_count": 921,
   "metadata": {},
   "outputs": [
    {
     "data": {
      "text/html": [
       "<div>\n",
       "<style scoped>\n",
       "    .dataframe tbody tr th:only-of-type {\n",
       "        vertical-align: middle;\n",
       "    }\n",
       "\n",
       "    .dataframe tbody tr th {\n",
       "        vertical-align: top;\n",
       "    }\n",
       "\n",
       "    .dataframe thead th {\n",
       "        text-align: right;\n",
       "    }\n",
       "</style>\n",
       "<table border=\"1\" class=\"dataframe\">\n",
       "  <thead>\n",
       "    <tr style=\"text-align: right;\">\n",
       "      <th></th>\n",
       "      <th>Transport Mode</th>\n",
       "      <th>Total ($)</th>\n",
       "    </tr>\n",
       "  </thead>\n",
       "  <tbody>\n",
       "    <tr>\n",
       "      <th>1</th>\n",
       "      <td>Sea</td>\n",
       "      <td>34.938</td>\n",
       "    </tr>\n",
       "    <tr>\n",
       "      <th>2</th>\n",
       "      <td>Rail</td>\n",
       "      <td>9.123</td>\n",
       "    </tr>\n",
       "    <tr>\n",
       "      <th>3</th>\n",
       "      <td>Road</td>\n",
       "      <td>5.990</td>\n",
       "    </tr>\n",
       "    <tr>\n",
       "      <th>4</th>\n",
       "      <td>Air</td>\n",
       "      <td>5.477</td>\n",
       "    </tr>\n",
       "  </tbody>\n",
       "</table>\n",
       "</div>"
      ],
      "text/plain": [
       "  Transport Mode  Total ($)\n",
       "1            Sea     34.938\n",
       "2           Rail      9.123\n",
       "3           Road      5.990\n",
       "4            Air      5.477"
      ]
     },
     "execution_count": 921,
     "metadata": {},
     "output_type": "execute_result"
    }
   ],
   "source": [
    "transport_imp_amount"
   ]
  },
  {
   "cell_type": "code",
   "execution_count": 922,
   "metadata": {},
   "outputs": [
    {
     "data": {
      "image/png": "[encoded data removed]",
      "text/plain": [
       "<Figure size 432x288 with 1 Axes>"
      ]
     },
     "metadata": {
      "needs_background": "light"
     },
     "output_type": "display_data"
    }
   ],
   "source": [
    "transport_imp_amount.plot(kind='bar', x = 'Transport Mode', y ='Total ($)', color = 'orange', align = 'center')\n",
    "plt.title(\"Modos de transporte que generan más ingresos (importaciones)\")\n",
    "plt.xlabel(\"Modo de transporte\")\n",
    "plt.ylabel(\"Billones\")\n",
    "plt.show()\n"
   ]
  },
  {
   "cell_type": "markdown",
   "metadata": {},
   "source": [
    "### <b>3. Valor total de importaciones y exportaciones</b>"
   ]
  },
  {
   "cell_type": "markdown",
   "metadata": {},
   "source": [
    "A continuación, se realiza la filtración de los datos de Synergy Logistics para los países que le generan el 80% del valor de las exportaciones e importaciones."
   ]
  },
  {
   "cell_type": "code",
   "execution_count": 923,
   "metadata": {},
   "outputs": [],
   "source": [
    "#Frame de exportaciones por país de origen (sin repetir)\n",
    "country_export = exports.groupby(['origin'])\n",
    "\n",
    "#Extracción de la cantidad monetaria de esas importaciones por cada país\n",
    "country_exp_amount = country_export.sum()['total_value']\n",
    "\n",
    "#Regresar a formato DataFrame\n",
    "country_exp_amount = country_exp_amount.reset_index()\n",
    "\n",
    "#Cambio de cifras para expresar las cantidades en billones\n",
    "country_exp_amount['total_value'] = round(country_exp_amount['total_value']/100000000,3)\n",
    "\n",
    "#Añadir porcentaje \n",
    "total = country_exp_amount['total_value'].sum()\n",
    "country_exp_amount['percentage'] = round((country_exp_amount['total_value']/total)*100,3)\n",
    "\n",
    "#Cambiar nombre a las columnas\n",
    "country_exp_amount.columns = ['Country','Total ($)','Total (%)']\n",
    "\n",
    "#Ordenar del país que mas genera al que menos genera\n",
    "country_exp_amount = country_exp_amount.sort_values('Total ($)', ascending= False)\n",
    "\n",
    "#Obtener porcentaje acumulado\n",
    "country_exp_amount['Acumm (%)'] = country_exp_amount['Total (%)'].cumsum()\n",
    "\n",
    "#Cambiar el index acorde al lugar\n",
    "country_exp_amount = country_exp_amount.reset_index(drop= True)\n",
    "country_exp_amount.index +=1    \n",
    "\n",
    "#Imprimir solo los paises que sumen el 80%\n",
    "country_exp_amount = country_exp_amount[country_exp_amount['Acumm (%)'] <= 83]\n",
    "\n",
    "\n",
    "'''---------------------------------------------------------------------------'''\n",
    "\n",
    "\n",
    "#Frame de exportaciones por país de origen (sin repetir)\n",
    "country_imports = imports.groupby(['origin'])\n",
    "\n",
    "#Extracción de la cantidad monetaria de esas importaciones por cada país\n",
    "country_imp_amount = country_imports.sum()['total_value']\n",
    "\n",
    "#Regresar a formato DataFrame\n",
    "country_imp_amount = country_imp_amount.reset_index()\n",
    "\n",
    "#Cambio de cifras para expresar las cantidades en billones\n",
    "country_imp_amount['total_value'] = round(country_imp_amount['total_value']/100000000,3)\n",
    "\n",
    "#Añadir porcentaje \n",
    "total = country_imp_amount['total_value'].sum()\n",
    "country_imp_amount['percentage'] = round((country_imp_amount['total_value']/total)*100,3)\n",
    "\n",
    "#Cambiar nombre a las columnas\n",
    "country_imp_amount.columns = ['Country','Total ($)','Total (%)']\n",
    "\n",
    "#Ordenar del país que mas genera al que menos genera\n",
    "country_imp_amount = country_imp_amount.sort_values('Total ($)', ascending= False)\n",
    "\n",
    "#Obtener porcentaje acumulado\n",
    "country_imp_amount['Acumm (%)'] = country_imp_amount['Total (%)'].cumsum()\n",
    "\n",
    "#Cambiar el index acorde al lugar\n",
    "country_imp_amount = country_imp_amount.reset_index(drop= True)\n",
    "country_imp_amount.index +=1    \n",
    "\n",
    "#Imprimir solo los paises que sumen el 80%\n",
    "country_imp_amount = country_imp_amount[country_imp_amount['Acumm (%)'] <= 83]"
   ]
  },
  {
   "cell_type": "markdown",
   "metadata": {},
   "source": [
    "<span style='color:Yellow'> <b>PAISES QUE GENERAN EL 80% DE INGRESOS (EXPORTACIÓN) </b> </span>"
   ]
  },
  {
   "cell_type": "code",
   "execution_count": 924,
   "metadata": {},
   "outputs": [
    {
     "data": {
      "text/html": [
       "<div>\n",
       "<style scoped>\n",
       "    .dataframe tbody tr th:only-of-type {\n",
       "        vertical-align: middle;\n",
       "    }\n",
       "\n",
       "    .dataframe tbody tr th {\n",
       "        vertical-align: top;\n",
       "    }\n",
       "\n",
       "    .dataframe thead th {\n",
       "        text-align: right;\n",
       "    }\n",
       "</style>\n",
       "<table border=\"1\" class=\"dataframe\">\n",
       "  <thead>\n",
       "    <tr style=\"text-align: right;\">\n",
       "      <th></th>\n",
       "      <th>Country</th>\n",
       "      <th>Total ($)</th>\n",
       "      <th>Total (%)</th>\n",
       "      <th>Acumm (%)</th>\n",
       "    </tr>\n",
       "  </thead>\n",
       "  <tbody>\n",
       "    <tr>\n",
       "      <th>1</th>\n",
       "      <td>China</td>\n",
       "      <td>329.770</td>\n",
       "      <td>20.590</td>\n",
       "      <td>20.590</td>\n",
       "    </tr>\n",
       "    <tr>\n",
       "      <th>2</th>\n",
       "      <td>France</td>\n",
       "      <td>186.143</td>\n",
       "      <td>11.622</td>\n",
       "      <td>32.212</td>\n",
       "    </tr>\n",
       "    <tr>\n",
       "      <th>3</th>\n",
       "      <td>USA</td>\n",
       "      <td>183.553</td>\n",
       "      <td>11.460</td>\n",
       "      <td>43.672</td>\n",
       "    </tr>\n",
       "    <tr>\n",
       "      <th>4</th>\n",
       "      <td>South Korea</td>\n",
       "      <td>146.211</td>\n",
       "      <td>9.129</td>\n",
       "      <td>52.801</td>\n",
       "    </tr>\n",
       "    <tr>\n",
       "      <th>5</th>\n",
       "      <td>Russia</td>\n",
       "      <td>132.230</td>\n",
       "      <td>8.256</td>\n",
       "      <td>61.057</td>\n",
       "    </tr>\n",
       "    <tr>\n",
       "      <th>6</th>\n",
       "      <td>Japan</td>\n",
       "      <td>119.490</td>\n",
       "      <td>7.461</td>\n",
       "      <td>68.518</td>\n",
       "    </tr>\n",
       "    <tr>\n",
       "      <th>7</th>\n",
       "      <td>Germany</td>\n",
       "      <td>113.432</td>\n",
       "      <td>7.082</td>\n",
       "      <td>75.600</td>\n",
       "    </tr>\n",
       "    <tr>\n",
       "      <th>8</th>\n",
       "      <td>Canada</td>\n",
       "      <td>106.840</td>\n",
       "      <td>6.671</td>\n",
       "      <td>82.271</td>\n",
       "    </tr>\n",
       "  </tbody>\n",
       "</table>\n",
       "</div>"
      ],
      "text/plain": [
       "       Country  Total ($)  Total (%)  Acumm (%)\n",
       "1        China    329.770     20.590     20.590\n",
       "2       France    186.143     11.622     32.212\n",
       "3          USA    183.553     11.460     43.672\n",
       "4  South Korea    146.211      9.129     52.801\n",
       "5       Russia    132.230      8.256     61.057\n",
       "6        Japan    119.490      7.461     68.518\n",
       "7      Germany    113.432      7.082     75.600\n",
       "8       Canada    106.840      6.671     82.271"
      ]
     },
     "execution_count": 924,
     "metadata": {},
     "output_type": "execute_result"
    }
   ],
   "source": [
    "country_exp_amount"
   ]
  },
  {
   "cell_type": "code",
   "execution_count": 925,
   "metadata": {},
   "outputs": [
    {
     "data": {
      "image/png": "[encoded data removed]",
      "text/plain": [
       "<Figure size 432x288 with 1 Axes>"
      ]
     },
     "metadata": {
      "needs_background": "light"
     },
     "output_type": "display_data"
    }
   ],
   "source": [
    "country_exp_amount.plot(kind='barh', x = 'Country', y ='Total ($)', color = 'yellow')\n",
    "plt.title(\"Países que generan el 80% de los ingresos (Exportación)\")\n",
    "plt.xlabel(\"Billones\")\n",
    "plt.ylabel(\"Países\")\n",
    "plt.show()"
   ]
  },
  {
   "cell_type": "markdown",
   "metadata": {},
   "source": [
    "<span style='color:Orange'> <b>PAISES QUE GENERAN EL 80% DE INGRESOS (IMPORTACIÓN) </b> </span>"
   ]
  },
  {
   "cell_type": "code",
   "execution_count": 926,
   "metadata": {},
   "outputs": [
    {
     "data": {
      "text/html": [
       "<div>\n",
       "<style scoped>\n",
       "    .dataframe tbody tr th:only-of-type {\n",
       "        vertical-align: middle;\n",
       "    }\n",
       "\n",
       "    .dataframe tbody tr th {\n",
       "        vertical-align: top;\n",
       "    }\n",
       "\n",
       "    .dataframe thead th {\n",
       "        text-align: right;\n",
       "    }\n",
       "</style>\n",
       "<table border=\"1\" class=\"dataframe\">\n",
       "  <thead>\n",
       "    <tr style=\"text-align: right;\">\n",
       "      <th></th>\n",
       "      <th>Country</th>\n",
       "      <th>Total ($)</th>\n",
       "      <th>Total (%)</th>\n",
       "      <th>Acumm (%)</th>\n",
       "    </tr>\n",
       "  </thead>\n",
       "  <tbody>\n",
       "    <tr>\n",
       "      <th>1</th>\n",
       "      <td>China</td>\n",
       "      <td>122.33</td>\n",
       "      <td>22.030</td>\n",
       "      <td>22.030</td>\n",
       "    </tr>\n",
       "    <tr>\n",
       "      <th>2</th>\n",
       "      <td>Japan</td>\n",
       "      <td>80.94</td>\n",
       "      <td>14.576</td>\n",
       "      <td>36.606</td>\n",
       "    </tr>\n",
       "    <tr>\n",
       "      <th>3</th>\n",
       "      <td>USA</td>\n",
       "      <td>52.91</td>\n",
       "      <td>9.529</td>\n",
       "      <td>46.135</td>\n",
       "    </tr>\n",
       "    <tr>\n",
       "      <th>4</th>\n",
       "      <td>Mexico</td>\n",
       "      <td>46.21</td>\n",
       "      <td>8.322</td>\n",
       "      <td>54.457</td>\n",
       "    </tr>\n",
       "    <tr>\n",
       "      <th>5</th>\n",
       "      <td>Germany</td>\n",
       "      <td>42.50</td>\n",
       "      <td>7.654</td>\n",
       "      <td>62.111</td>\n",
       "    </tr>\n",
       "    <tr>\n",
       "      <th>6</th>\n",
       "      <td>Singapore</td>\n",
       "      <td>40.17</td>\n",
       "      <td>7.234</td>\n",
       "      <td>69.345</td>\n",
       "    </tr>\n",
       "    <tr>\n",
       "      <th>7</th>\n",
       "      <td>South Korea</td>\n",
       "      <td>38.89</td>\n",
       "      <td>7.004</td>\n",
       "      <td>76.349</td>\n",
       "    </tr>\n",
       "    <tr>\n",
       "      <th>8</th>\n",
       "      <td>Malaysia</td>\n",
       "      <td>35.60</td>\n",
       "      <td>6.411</td>\n",
       "      <td>82.760</td>\n",
       "    </tr>\n",
       "  </tbody>\n",
       "</table>\n",
       "</div>"
      ],
      "text/plain": [
       "       Country  Total ($)  Total (%)  Acumm (%)\n",
       "1        China     122.33     22.030     22.030\n",
       "2        Japan      80.94     14.576     36.606\n",
       "3          USA      52.91      9.529     46.135\n",
       "4       Mexico      46.21      8.322     54.457\n",
       "5      Germany      42.50      7.654     62.111\n",
       "6    Singapore      40.17      7.234     69.345\n",
       "7  South Korea      38.89      7.004     76.349\n",
       "8     Malaysia      35.60      6.411     82.760"
      ]
     },
     "execution_count": 926,
     "metadata": {},
     "output_type": "execute_result"
    }
   ],
   "source": [
    "country_imp_amount"
   ]
  },
  {
   "cell_type": "code",
   "execution_count": 927,
   "metadata": {},
   "outputs": [
    {
     "data": {
      "image/png": "[encoded data removed]",
      "text/plain": [
       "<Figure size 432x288 with 1 Axes>"
      ]
     },
     "metadata": {
      "needs_background": "light"
     },
     "output_type": "display_data"
    }
   ],
   "source": [
    "country_imp_amount.plot(kind='barh', x = 'Country', y ='Total ($)', color = 'orange')\n",
    "plt.title(\"Países que generan el 80% de los ingresos (Importación)\")\n",
    "plt.xlabel(\"Billones\")\n",
    "plt.ylabel(\"Países\")\n",
    "plt.show()"
   ]
  },
  {
   "cell_type": "markdown",
   "metadata": {},
   "source": [
    "### <b>Estrategia y Conclusiones </b>"
   ]
  },
  {
   "cell_type": "markdown",
   "metadata": {},
   "source": [
    "<p>Para Synergy Logistics no es conveniente tomar en cuenta la estrategia número 1: \"Rutas de importación y exportación\", ya que estarían reduciendo sus ingresos notoriamente, ya que el ingreso generado en esas rutas tanto de importación como de exportación es mucho menor de lo que generó un solo país (China, por ejemplo), es por ello que limitar a la empresa a solo 10 rutas no es una buena opción.<br>\n",
    "\n",
    "Ahora, con respecto al modo de transporte utilizado, tampoco es viable, ya que el ingreso de exportación e importación es mucho menor de lo que generó solamente China, es por ello que liminar a la empresa a realizar operaciones acorde al modo de transporte reduciría considerablemente los ingresos. Esta opción es mucho mejor que la opción anterior, sin embargo, no es suficiente.<br>\n",
    "\n",
    "<b>Synergy Logistics debe utilizar su opción 3: \"Valor total de importaciones y exportaciones\", enfocandose en los países que le generan el 80% de ingresos, ya que así podría mejorar considerablemente, porque no habría gastos en países que generan muy poco, además de que la exportación es la actividad que genera mayores ingresos. Debe enfocarse en los países mostrados en las gráficas anteriores, principalmente en China, Francia y USA para exportación y China, Japón y USA para importación. Debe seguir teniendo todas sus modos de transporte, ya que dentro de los paises que generan el 80% se utilizan todas,aunque sobresale el barco como transporte marítimo y el ferrocarril.</b> </p>"
   ]
  }
 ],
 "metadata": {
  "interpreter": {
   "hash": "fb698bdeab99cfbf9e31cab566d99a06e057f2dec3dcc8097ebabb329e860e16"
  },
  "kernelspec": {
   "display_name": "Python 3.9.7 ('base')",
   "language": "python",
   "name": "python3"
  },
  "language_info": {
   "codemirror_mode": {
    "name": "ipython",
    "version": 3
   },
   "file_extension": ".py",
   "mimetype": "text/x-python",
   "name": "python",
   "nbconvert_exporter": "python",
   "pygments_lexer": "ipython3",
   "version": "3.9.7"
  },
  "orig_nbformat": 4
 },
 "nbformat": 4,
 "nbformat_minor": 2
}
